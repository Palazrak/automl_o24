{
 "cells": [
  {
   "cell_type": "markdown",
   "metadata": {},
   "source": [
    "# Data Science Exploration of Physics Concepts using Linear Regression"
   ]
  },
  {
   "cell_type": "markdown",
   "metadata": {},
   "source": [
    "## Objective\n"
   ]
  },
  {
   "cell_type": "markdown",
   "metadata": {},
   "source": [
    "Investigate the application and limitations of linear regression in estimating physical constants, focusing on data science techniques rather than deep physics knowledge."
   ]
  },
  {
   "cell_type": "markdown",
   "metadata": {},
   "source": [
    "\n",
    "## Your Task\n",
    "\n",
    "Your task is to explore these relationships from a data science perspective, focusing on how linear regression performs in each case.\n",
    "\n",
    "## Tools\n",
    "\n",
    "Python with libraries for data analysis and visualization (e.g., pandas, numpy, matplotlib, seaborn, sklearn)"
   ]
  },
  {
   "cell_type": "markdown",
   "metadata": {},
   "source": [
    "## Background for Data Scientists"
   ]
  },
  {
   "cell_type": "markdown",
   "metadata": {},
   "source": [
    "\n",
    "We'll explore two physics scenarios:\n",
    "\n",
    "\n"
   ]
  },
  {
   "cell_type": "markdown",
   "metadata": {},
   "source": [
    "### The Photoelectric Effect:\n",
    "\n",
    "When light shines on certain materials, electrons are emitted. This is called the photoelectric effect.  \n",
    "The maximum kinetic energy (K) of emitted electrons is related to the frequency of light (f) by the equation:\n",
    "\n",
    "$ K = hf - φ $\n",
    "\n",
    "Here, **h** is Planck's constant (a fundamental constant of nature), and **φ** is the work function (a property of the material).  \n",
    "This relationship is linear, with **h** as the slope and **-φ** as the y-intercept.\n",
    "\n"
   ]
  },
  {
   "cell_type": "markdown",
   "metadata": {},
   "source": [
    "### The Simple Pendulum:\n",
    "\n",
    "A simple pendulum is a weight hanging from a string that swings back and forth.  \n",
    "The time it takes for one complete swing (the period, T) is related to the length of the pendulum (L) by the equation:\n",
    "\n",
    "$ T = 2\\pi\\sqrt{\\frac{L}{g}} $\n",
    "\n",
    "Here, **g** is the acceleration due to gravity (approximately 9.8 m/s² on Earth).  \n",
    "This relationship is not linear due to the square root.\n"
   ]
  },
  {
   "cell_type": "markdown",
   "metadata": {},
   "source": [
    "# Data Generation"
   ]
  },
  {
   "cell_type": "markdown",
   "metadata": {},
   "source": [
    "## The Photoelectric Effect (Linear Relationship):\n",
    "\n",
    "### a. Choose your parameters:\n",
    "\n",
    "- **h (Planck's constant):** Use the actual value, $( 6.626 \\times 10^{-34} ) J⋅s$\n",
    "- **φ (work function):** Choose a value between $( 1 \\times 10^{-19})$ and $( 5 \\times 10^{-19} ) J$\n",
    "\n",
    "### b. Generate data:\n",
    "\n",
    "1. **Create an array of 50 frequency (f) values** between $( 1 \\times 10^{14} )$ and $( 1 \\times 10^{15} )$ Hz.\n",
    "2. **Calculate the corresponding K values** using the equation $( K = hf - φ )$.\n",
    "3. **Add random noise to K values** to simulate experimental uncertainty. Use numpy's random module to add Gaussian noise with a standard deviation of about 1-5% of the K values.\n",
    "\n",
    "### Python snippet to get you started:\n"
   ]
  },
  {
   "cell_type": "code",
   "execution_count": null,
   "metadata": {},
   "outputs": [],
   "source": [
    "import numpy as np\n",
    "\n",
    "# Set your parameters\n",
    "h = 6.626e-34  # Planck's constant in J⋅s\n",
    "phi = # Choose a value for the work function\n",
    "\n",
    "# Generate frequency values\n",
    "f = np.linspace(1e14, 1e15, 50)\n",
    "\n",
    "# Calculate K values\n",
    "K = h * f - phi\n",
    "\n",
    "# Add noise\n",
    "noise_level = # Choose a value between 0.01 and 0.05\n",
    "K_with_noise = K + np.random.normal(0, noise_level * K, K.shape)"
   ]
  },
  {
   "cell_type": "markdown",
   "metadata": {},
   "source": [
    "## The Simple Pendulum (Non-linear Relationship):\n",
    "\n",
    "### a. Choose your parameters:\n",
    "\n",
    "- **g (acceleration due to gravity):** Use 9.8 m/s²\n",
    "\n",
    "### b. Generate data:\n",
    "\n",
    "1. **Create an array of 50 length (L) values** between $(0.1)$ and $(2)$ meters.\n",
    "2. **Calculate the corresponding T values** using the equation $(T = 2\\pi\\sqrt{\\frac{L}{g}})$.\n",
    "3. **Add random noise to T values** to simulate experimental uncertainty. Use numpy's random module to add Gaussian noise with a standard deviation of about 1-5% of the T values.\n"
   ]
  },
  {
   "cell_type": "code",
   "execution_count": null,
   "metadata": {},
   "outputs": [],
   "source": [
    "import numpy as np\n",
    "\n",
    "# Set your parameters\n",
    "g = 9.8  # acceleration due to gravity in m/s²\n",
    "\n",
    "# Generate length values\n",
    "L = np.linspace(0.1, 2, 50)\n",
    "\n",
    "# Calculate T values\n",
    "T = 2 * np.pi * np.sqrt(L / g)\n",
    "\n",
    "# Add noise\n",
    "noise_level = # Choose a value between 0.01 and 0.05\n",
    "T_with_noise = T + np.random.normal(0, noise_level * T, T.shape)"
   ]
  },
  {
   "cell_type": "markdown",
   "metadata": {},
   "source": [
    "For both scenarios:\n",
    "\n",
    "Create pandas DataFrames to store your generated data.\n",
    "Visualize your data using scatter plots. Use matplotlib or seaborn for this.\n",
    "Examine your plots. How do they differ? What do these differences suggest about the underlying relationships?\n",
    "\n",
    "Remember, while we're providing a structure for data generation, you should experiment with different noise levels and ranges to understand how these choices affect your subsequent analysis."
   ]
  },
  {
   "cell_type": "markdown",
   "metadata": {},
   "source": [
    "# Part II: Linear Regression Application\n",
    "For both scenarios:\n",
    "\n",
    "1. Plot the Data (matplotlib & seaborn)\n",
    "2. Apply linear regression to your data. (use sklearn)\n",
    "3. Visualize the regression line alongside your data points. (matplotlib & seaborn)\n",
    "4. Extract the slope and intercept. What do these represent in each scenario? (what is the slope?)\n",
    "\n"
   ]
  },
  {
   "cell_type": "markdown",
   "metadata": {},
   "source": [
    "## Questions to consider:\n",
    "\n",
    "+ How well does the linear model fit each dataset?\n",
    "+ What metrics could you use to quantify the goodness of fit?\n",
    "+ For the pendulum data, is linear regression appropriate? If not, why?"
   ]
  },
  {
   "cell_type": "markdown",
   "metadata": {
    "vscode": {
     "languageId": "plaintext"
    }
   },
   "source": [
    "### Plot Data "
   ]
  },
  {
   "cell_type": "code",
   "execution_count": null,
   "metadata": {},
   "outputs": [],
   "source": [
    "### Plot Visualizations of the Photoelectric Data\n",
    "\n",
    "\n",
    "\n",
    "\n",
    "\n"
   ]
  },
  {
   "cell_type": "code",
   "execution_count": null,
   "metadata": {},
   "outputs": [],
   "source": [
    "### Plot VIsualizations for the Pendulum Movement\n",
    "\n",
    "\n",
    "\n"
   ]
  },
  {
   "cell_type": "markdown",
   "metadata": {
    "vscode": {
     "languageId": "plaintext"
    }
   },
   "source": [
    "### Regression"
   ]
  },
  {
   "cell_type": "code",
   "execution_count": null,
   "metadata": {},
   "outputs": [],
   "source": [
    "# Regression for Photelectric Effect\n",
    "\n",
    "\n",
    "\n",
    "\n",
    "\n",
    "\n"
   ]
  },
  {
   "cell_type": "code",
   "execution_count": null,
   "metadata": {},
   "outputs": [],
   "source": [
    "# Regression for Pendulum\n",
    "\n",
    "\n",
    "\n",
    "\n",
    "\n",
    "\n"
   ]
  },
  {
   "cell_type": "markdown",
   "metadata": {},
   "source": [
    "### Visualization of the Regression Results"
   ]
  },
  {
   "cell_type": "code",
   "execution_count": null,
   "metadata": {},
   "outputs": [],
   "source": [
    "### Code for visualizing regression results (Photoelectric)\n",
    "\n",
    "\n",
    "\n"
   ]
  },
  {
   "cell_type": "code",
   "execution_count": null,
   "metadata": {},
   "outputs": [],
   "source": [
    "### Code for visualizing regression results (Pendulum)\n",
    "\n",
    "\n",
    "\n",
    "\n"
   ]
  }
 ],
 "metadata": {
  "kernelspec": {
   "display_name": "Python 3",
   "language": "python",
   "name": "python3"
  },
  "language_info": {
   "name": "python",
   "version": "3.10.12"
  }
 },
 "nbformat": 4,
 "nbformat_minor": 2
}
